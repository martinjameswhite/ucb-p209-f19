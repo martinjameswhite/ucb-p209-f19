{
 "cells": [
  {
   "cell_type": "code",
   "execution_count": 1,
   "metadata": {},
   "outputs": [],
   "source": [
    "import numpy as np\n",
    "import matplotlib.pyplot as plt\n",
    "%matplotlib inline"
   ]
  },
  {
   "cell_type": "markdown",
   "metadata": {},
   "source": [
    "Consider a 1D analog of Poisson's equation, namely $y''=F(x)$, with Dirichlet boundary conditions at $x=a$ and $x=b$.  The \"Galerkin method\", which is the basis of the finite element method, proceeds as follows.\n",
    "\n",
    "Given a set of weight functions, $w_i(x)$ defined on $[a,b]$, show that requiring\n",
    "\\begin{equation}\n",
    "  \\int_a^b w_i(x)\\ R(x)\\, dx = 0\n",
    "\\end{equation}\n",
    "where $R(x)\\equiv y''(x)-F(x)$ is \"the residual\" and we approximate $y$ as\n",
    "\\begin{equation}\n",
    "  y(x) \\approx \\sum_i c_i w_i(x)\n",
    "\\end{equation}\n",
    "gives a set of simultaneous equations for the coefficients, $c_i$.\n",
    "\n",
    "Typically the $w_i$ are compact and simply translated versions of a \"master\"\n",
    "weight function, e.g. a triangle function.  The first derivative of the\n",
    "triangle function is non-zero at only 3 places.  In this case use integration\n",
    "by parts to express the system in a simple form.\n",
    "(If we take the weight functions in the integral to be $\\delta$-functions\n",
    " we also get a set of constraints on the $c_i$: this is known as the\n",
    " \"colocation method\".  Berkeley plays an important role in the history\n",
    "of the FEM, which is not often taught in physics classes.  You can find\n",
    "good textbooks and resources online.)"
   ]
  },
  {
   "cell_type": "markdown",
   "metadata": {},
   "source": [
    "The first statement is obvious by simply plugging the expansion for $y$ into the $N$ integral equations, one obtains\n",
    "\\begin{equation}\n",
    "  \\int_a^b \\left[\\sum_j c_j w_j''(x)-F(x)\\right] w_i(x)\\, dx = 0\n",
    "  \\quad \\Rightarrow \\quad\n",
    "  c_j = \\left[\\int_a^b w_j''(x)w_i(x)\\right]^{-1} \\int_a^b F(x)w_i(x)\\, dx\n",
    "\\end{equation}\n",
    "where the notation $[\\cdots]^{-1}$ indicates a matrix inverse.\n",
    "\n",
    "Usually we integrate the $w''w$ term by parts to write the integral in terms of $-(w')^2$ (we can discard the boundary terms if $w$ drops to zero at the edges).  This is known as converting the system to \"weak form\", and is an important part of FEMs."
   ]
  },
  {
   "cell_type": "markdown",
   "metadata": {},
   "source": [
    "Let's take our computational domain to be $[0,1]$ and discretize it with a uniform grid such that $x_i=i h$ where $i\\in [0,N]$ and $h=1/N$.  Note that there are $N+1$ points if we include the endpoints.\n",
    "\n",
    "We will define the weight function $w_i(x)$ to be the triangle function turning on at $x_{i-1}$, peaking at $x_i$ and dropping to $x_{i+1}$.  For the end cases, $i=0$ and $i=N$, we just omit the rise and fall (respectively).\n",
    "\n",
    "The case $N=3$ is instructive.  Our domain is $[0,1]$ and $x_0=0$, $x_1=1/3$, $x_2=2/3$ and $x_3=1$ with $h=1/3$.  The weight function $w_0(x)$ falls linearly from $1$ at $x=0$ to $0$ at $x_1=1/3$ and is zero elsewhere.  Similarly $w_3(x)$ is zero except between $x=x_2=2/3$ and $x_3=1$ over which interval it rises from $0$ to $1$.  The other two are triangle functions, e.g. $w_1$ rises linearly from $0$ at $x_0$ to $1$ at $x_1$ and then drops linearly from $x_1$ to $x_2$ and is zero from $x_2$ to $x_3$.  Etc.\n",
    "\n",
    "In this case, with $N=3$ we have\n",
    "$$\n",
    "A = h^{-1} \\left(\\begin{array}{rrrr}\n",
    "             -1 &  1 &  0 &  0 \\\\\n",
    "              1 & -2 &  1 &  0 \\\\\n",
    "              0 &  1 & -2 &  1 \\\\\n",
    "              0 &  0 &  1 & -1\n",
    "\\end{array}\\right) =\n",
    "h^{-1} \\left(\\begin{array}{rrrr}\n",
    "             -1 &  1 &  0 &  0 \\\\\n",
    "              1 & -1 &  0 &  0 \\\\\n",
    "              0 &  0 &  0 &  0 \\\\\n",
    "              0 &  0 &  0 &  0\n",
    "\\end{array}\\right) +\n",
    "h^{-1} \\left(\\begin{array}{rrrr}\n",
    "              0 &  0 &  0 &  0 \\\\\n",
    "              0 & -1 &  1 &  0 \\\\\n",
    "              0 &  1 & -1 &  0 \\\\\n",
    "              0 &  0 &  0 &  0\n",
    "\\end{array}\\right) +\n",
    "h^{-1} \\left(\\begin{array}{rrrr}\n",
    "              0 &  0 &  0 &  0 \\\\\n",
    "              0 &  0 &  0 &  0 \\\\\n",
    "              0 &  0 & -1 &  1 \\\\\n",
    "              0 &  0 &  1 & -1\n",
    "\\end{array}\\right)\n",
    "$$\n",
    "since, if we use integration by parts,\n",
    "$$\n",
    "  A_{00} = -\\int_0^{1/3} (-3)^2 = -3 = -\\frac{1}{h} \\quad , \\quad\n",
    "  A_{01} = -\\int_0^{1/3} (-3)(+3) = 3 = \\frac{1}{h}\n",
    "$$\n",
    "etc.\n",
    "\n",
    "If we had a source function, $F$, then the right hand side would be\n",
    "$$\n",
    "  \\frac{h}{2}\\left(\\begin{array}{r} F_0 \\\\ 2F_1 \\\\ 2F_2 \\\\ F_3 \\end{array}\\right)\n",
    "$$\n",
    "\n",
    "Now if you went ahead and tried to solve this system, you would find $A$ is singular.  That's because we haven't used the boundary conditions yet.  There are really only two unknowns here, $y_1$ and $y_2$.  So our system isn't really $4\\times 4$ but rather $2\\times 2$.  There are ways to \"trick\" the computer into knowing this ... let's add a \"penalty term\" $\\alpha$ to $A_{00}$ and $\\beta$ to $A_{33}$ and adjust the rhs to:\n",
    "$$\n",
    "  F + \\alpha \\left(\\begin{array}{r} d_0 \\\\ 0 \\\\ 0 \\\\ d_3 \\end{array}\\right)\n",
    "$$\n",
    "which for large $\\alpha$ and $\\beta$ will force $y_0=d_0$ and $y_3=d_3$ (I'm using \"d\" for \"Dirichlet\" here).\n",
    "\n",
    "Let us also take $F=0$ and the boundary conditions $y(0)=1$ and $y(1)=0$.\n",
    "This is not a very interesting problem, but it serves to get us going!"
   ]
  },
  {
   "cell_type": "code",
   "execution_count": 2,
   "metadata": {},
   "outputs": [
    {
     "name": "stdout",
     "output_type": "stream",
     "text": [
      "x=0.00, y= 1.000, exact= 1.000\n",
      "x=0.33, y= 0.667, exact= 0.667\n",
      "x=0.67, y= 0.333, exact= 0.333\n",
      "x=1.00, y=-0.000, exact= 0.000\n"
     ]
    }
   ],
   "source": [
    "# Let's code up this case:\n",
    "N = 3\n",
    "h = 1.0/float(N)\n",
    "x = np.arange(N+1) * h\n",
    "# Set up the array as above.\n",
    "A = np.array( [ [-1.0, 1.0, 0.0, 0.0],\\\n",
    "                [ 1.0,-2.0, 1.0, 0.0],\\\n",
    "                [ 0.0, 1.0,-2.0, 1.0],\\\n",
    "                [ 0.0, 0.0, 1.0,-1.0] ])\n",
    "# Add the penality terms\n",
    "alpha,beta = 1e4,1e4\n",
    "A[ 0, 0] += alpha\n",
    "A[-1,-1] += beta\n",
    "# There are \"clever\" and fast ways to invert a tri-diagonal matrix.\n",
    "# ... we won't use them :).\n",
    "Ainv = np.linalg.inv(A)\n",
    "# and solve our system\n",
    "rhs = np.array([alpha,0,0,0])\n",
    "y   = np.dot(Ainv,rhs)\n",
    "# and print the answer, just for fun.\n",
    "for i in range(N+1):\n",
    "    print(\"x={:4.2f}, y={:6.3f}, exact={:6.3f}\".format(i*h,y[i],1-i*h))"
   ]
  },
  {
   "cell_type": "code",
   "execution_count": 3,
   "metadata": {
    "scrolled": false
   },
   "outputs": [
    {
     "data": {
      "text/plain": [
       "[<matplotlib.lines.Line2D at 0x7f1848b04898>]"
      ]
     },
     "execution_count": 3,
     "metadata": {},
     "output_type": "execute_result"
    },
    {
     "data": {
      "image/png": "[encoded data removed]",
      "text/plain": [
       "<Figure size 720x432 with 1 Axes>"
      ]
     },
     "metadata": {
      "needs_background": "light"
     },
     "output_type": "display_data"
    }
   ],
   "source": [
    "# Let's plot this -- not that we really need to, but ...\n",
    "fig,ax = plt.subplots(1,1,figsize=(10,6))\n",
    "ax.plot(x,y)"
   ]
  },
  {
   "cell_type": "code",
   "execution_count": 4,
   "metadata": {
    "scrolled": true
   },
   "outputs": [
    {
     "name": "stdout",
     "output_type": "stream",
     "text": [
      "[[-1.  1.  0.  0.  0.  0.  0.  0.  0.  0.  0.]\n",
      " [ 1. -2.  1.  0.  0.  0.  0.  0.  0.  0.  0.]\n",
      " [ 0.  1. -2.  1.  0.  0.  0.  0.  0.  0.  0.]\n",
      " [ 0.  0.  1. -2.  1.  0.  0.  0.  0.  0.  0.]\n",
      " [ 0.  0.  0.  1. -2.  1.  0.  0.  0.  0.  0.]\n",
      " [ 0.  0.  0.  0.  1. -2.  1.  0.  0.  0.  0.]\n",
      " [ 0.  0.  0.  0.  0.  1. -2.  1.  0.  0.  0.]\n",
      " [ 0.  0.  0.  0.  0.  0.  1. -2.  1.  0.  0.]\n",
      " [ 0.  0.  0.  0.  0.  0.  0.  1. -2.  1.  0.]\n",
      " [ 0.  0.  0.  0.  0.  0.  0.  0.  1. -2.  1.]\n",
      " [ 0.  0.  0.  0.  0.  0.  0.  0.  0.  1. -1.]]\n"
     ]
    }
   ],
   "source": [
    "# What if we decide to do the same thing, but for a larger N?\n",
    "# Now we construct the A matrix in a loop, by using the fact\n",
    "# that it can be built from simple shifted copies of a 2x2 matrix.\n",
    "N = 10\n",
    "h = 1.0/float(N)\n",
    "A = np.zeros((N+1,N+1))\n",
    "Ak= np.zeros((N+1,N+1))\n",
    "Ak[0,0]=Ak[1,1]=-1.0\n",
    "Ak[0,1]=Ak[1,0]= 1.0\n",
    "#\n",
    "for k in range(N):\n",
    "    A += Ak\n",
    "    Ak = np.roll(np.roll(Ak,1,0),1,1)\n",
    "print(A)"
   ]
  },
  {
   "cell_type": "code",
   "execution_count": 5,
   "metadata": {},
   "outputs": [
    {
     "name": "stdout",
     "output_type": "stream",
     "text": [
      "x=0.00, y= 1.000, exact= 1.000\n",
      "x=0.10, y= 0.900, exact= 0.900\n",
      "x=0.20, y= 0.800, exact= 0.800\n",
      "x=0.30, y= 0.700, exact= 0.700\n",
      "x=0.40, y= 0.600, exact= 0.600\n",
      "x=0.50, y= 0.500, exact= 0.500\n",
      "x=0.60, y= 0.400, exact= 0.400\n",
      "x=0.70, y= 0.300, exact= 0.300\n",
      "x=0.80, y= 0.200, exact= 0.200\n",
      "x=0.90, y= 0.100, exact= 0.100\n",
      "x=1.00, y=-0.000, exact= 0.000\n"
     ]
    }
   ],
   "source": [
    "# Again add out penalty terms\n",
    "A[ 0, 0] += alpha\n",
    "A[-1,-1] += beta\n",
    "# Brute-force invert the matrix\n",
    "Ainv = np.linalg.inv(A)\n",
    "# and solve our system\n",
    "rhs = np.zeros(N+1)\n",
    "rhs[0]=alpha\n",
    "y   = np.dot(Ainv,rhs)\n",
    "#\n",
    "for i in range(N+1):\n",
    "    print(\"x={:4.2f}, y={:6.3f}, exact={:6.3f}\".format(i*h,y[i],1-i*h))"
   ]
  },
  {
   "cell_type": "markdown",
   "metadata": {},
   "source": [
    "Note: there is no requirement here that the triangles all be the same size -- the spacing of the triangles can change allowing us to put more resolution in some regions of the problem than others.\n",
    "\n",
    "The finite element method \"feels\" different to physicists who don't often use these matrix-like methods.  You can find a nice introduction to the method in the textbook\n",
    "`The finite element method for engineers` by Huebner, Dewhirst, Smith and Byrom."
   ]
  }
 ],
 "metadata": {
  "kernelspec": {
   "display_name": "Python 3",
   "language": "python",
   "name": "python3"
  },
  "language_info": {
   "codemirror_mode": {
    "name": "ipython",
    "version": 3
   },
   "file_extension": ".py",
   "mimetype": "text/x-python",
   "name": "python",
   "nbconvert_exporter": "python",
   "pygments_lexer": "ipython3",
   "version": "3.6.8"
  }
 },
 "nbformat": 4,
 "nbformat_minor": 2
}
