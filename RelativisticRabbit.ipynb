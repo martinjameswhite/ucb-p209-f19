{
 "cells": [
  {
   "cell_type": "code",
   "execution_count": 1,
   "metadata": {},
   "outputs": [],
   "source": [
    "import numpy as np\n",
    "import matplotlib.pyplot as plt\n",
    "%matplotlib inline"
   ]
  },
  {
   "cell_type": "markdown",
   "metadata": {},
   "source": [
    "##  Relativistic rabbit ##\n",
    "\n",
    "Consider the \"classic\" pursuit problem with a relativistic twist.\n",
    "A dog is chasing a (relativistic) rabbit.  Its strategy is to always head\n",
    "directly towards where it sees the rabbit to be.\n",
    "\n",
    "Work in an inertial frame where the rabbit and dog's speed are constants,\n",
    "$w$ and $v$ respectively, and let $t$ denote time measured in that frame.\n",
    "Denote the rabbit's position as $\\xi(t),\\eta(t)$ and the dog's position as\n",
    "$x(t),y(t)$ and let $\\tau$ be the time at which the light received by the dog\n",
    "is emitted by the rabbit (Note: that $\\tau$ is not a proper time!!!).\n",
    "\n",
    "It is straightforward to show\n",
    "\\begin{eqnarray}\n",
    "  \\dot{x}^2 + \\dot{y}^2 &=& v^2 \\\\\n",
    "  \\dot{\\xi}^2 + \\dot{\\eta}^2 &=& w^2 \\\\\n",
    "  \\left[x(t)-\\xi(\\tau)\\right]^2 + \\left[y(t)-\\eta(\\tau)\\right]^2 &=&\n",
    "    c^2(t-\\tau)^2 \\\\\n",
    "  \\dot{x}(t)\\left[y(t)-\\eta(\\tau)\\right] &=&\n",
    "  \\dot{y}(t)\\left[x(t)-\\xi(\\tau)\\right]\n",
    "\\end{eqnarray}\n",
    "The first two equations express the\n",
    "conditions of constant speed, the last condition is the tangent condition\n",
    "that the dog point towards the rabbit's apparent position and the third is the\n",
    "light-travel time constraint between $\\tau$ and $t$.\n",
    "\n",
    "Specializing to the simplest case of \"linear pursuit\" with $\\xi=a$,\n",
    "$\\eta=wt$ and $x<a$\n",
    "\\begin{equation}\n",
    "  w\\tau = y-y'(x-a) \\qquad , \\qquad\n",
    "  c(t-\\tau) = (a-x)\\sqrt{1+y'^2}\n",
    "\\end{equation}\n",
    "where the first identity comes from the tangent condition and the second from the time-lag equation.  You can make some progress analytically and derive an equation for $y'$ but this (unfortunately) needs to be solved numerically.  It's slightly easier to just got from the above equations, at least in terms of code-readability.\n",
    "\n",
    "Below we shall set $c=1$:"
   ]
  },
  {
   "cell_type": "code",
   "execution_count": 2,
   "metadata": {},
   "outputs": [],
   "source": [
    "def rabbit(t,w=0.8,a=1.0):\n",
    "    \"\"\"Returns the position of the rabbit at t.\"\"\"\n",
    "    return( (a,w*t) )\n",
    "    #"
   ]
  },
  {
   "cell_type": "code",
   "execution_count": 3,
   "metadata": {},
   "outputs": [],
   "source": [
    "def find_tau(x,y,t):\n",
    "    \"\"\"Numerically solve for tau given the dog's position and t.\"\"\"\n",
    "    # Use bisection -- a little clunky but fast enough for us.\n",
    "    taulo,tauhi = -100.0,t+1.\n",
    "    xi,eta = rabbit(taulo)\n",
    "    flo    = (x-xi)**2+(y-eta)**2 - (t-taulo)**2\n",
    "    xi,eta = rabbit(tauhi)\n",
    "    fhi    = (x-xi)**2+(y-eta)**2 - (t-tauhi)**2\n",
    "    while tauhi-taulo>1e-4:\n",
    "        taumid = (taulo + tauhi)/2.0\n",
    "        xi,eta = rabbit(taumid)\n",
    "        fmid   = (x-xi)**2+(y-eta)**2 - (t-taumid)**2\n",
    "        if flo*fmid<0:\n",
    "            tauhi,fhi = taumid,fmid\n",
    "        else:\n",
    "            taulo,flo = taumid,fmid\n",
    "    return(taumid)\n",
    "    #"
   ]
  },
  {
   "cell_type": "code",
   "execution_count": 4,
   "metadata": {},
   "outputs": [],
   "source": [
    "def derivs(x,y,t,dt,v=0.99):\n",
    "    \"\"\"Solve for the velocity of the dog.\"\"\"\n",
    "    tau    = find_tau(x,y,t)\n",
    "    xi,eta = rabbit(tau)\n",
    "    if np.abs(x-xi)<1e-6:\n",
    "        # Motion is now vertical.\n",
    "        dxdt = 0.0\n",
    "        dydt = v\n",
    "    else:\n",
    "        # Get ratios for dy/dx, starting with dx=1.\n",
    "        dydt = (y-eta)/(x-xi)\n",
    "        # Now normalize to length v.\n",
    "        scale      = v/np.sqrt(1.0+dydt**2)\n",
    "        dxdt,dydt  = scale,dydt*scale\n",
    "    return( (dxdt,dydt,tau) )\n",
    "    #"
   ]
  },
  {
   "cell_type": "code",
   "execution_count": 5,
   "metadata": {},
   "outputs": [
    {
     "data": {
      "text/plain": [
       "<matplotlib.legend.Legend at 0x7fd73971aa90>"
      ]
     },
     "execution_count": 5,
     "metadata": {},
     "output_type": "execute_result"
    },
    {
     "data": {
      "image/png": "[encoded data removed]",
      "text/plain": [
       "<Figure size 720x432 with 1 Axes>"
      ]
     },
     "metadata": {
      "needs_background": "light"
     },
     "output_type": "display_data"
    }
   ],
   "source": [
    "# Now plot a path.\n",
    "fig,ax = plt.subplots(1,1,figsize=(10,6))\n",
    "# We could solve the ODEs using one of the built-in solvers, but we're just\n",
    "# going to use Euler's method for now and take really tiny steps.  Highly\n",
    "# inefficient, but ...\n",
    "t,dt,x,y  = 0.,1e-4,-1.0,10.0\n",
    "xold,yold = x,y\n",
    "#\n",
    "while t<12:\n",
    "    dxdt,dydt,tau = derivs(x,y,t,dt)\n",
    "    # Update x and y.\n",
    "    x += dxdt * dt\n",
    "    y += dydt * dt\n",
    "    t += dt\n",
    "    if np.abs(10*t - np.rint(10*t))<9*dt:\n",
    "        ax.plot([x],[y],'ko',mfc='None')\n",
    "        eta,xi = rabbit(t)\n",
    "        ax.plot([eta],[xi],'bs',mfc='None')\n",
    "        eta,xi = rabbit(find_tau(x,y,t))\n",
    "        ax.plot([eta],[xi],'cd',mfc='None')\n",
    "        xold,yold = x,y\n",
    "ax.plot([-5],[0],'ko',label='Dog')\n",
    "ax.plot([-5],[0],'bs',label='True rabbit')\n",
    "ax.plot([-5],[0],'cd',label='App. rabbit')\n",
    "ax.set_xlim(-1.1,1.1)\n",
    "ax.set_ylim(-50.,15.)\n",
    "ax.set_xlabel(r'$x$',fontsize=18)\n",
    "ax.set_ylabel(r'$y$',fontsize=18)\n",
    "ax.legend()"
   ]
  },
  {
   "cell_type": "markdown",
   "metadata": {},
   "source": [
    "Due to the light-travel-time issue the rabbit appears to the dog to be running at a variable speed.  If the dog starts at $x<a$ and above the rabbit it will run to the right and down, seeing the rabbit moving very quickly because of the light-travel time.  You can see this above with the cyan points starting way below the blue points (the blue points only start at $t=0$, but we imagine the rabbit has been running along $x=1$ even in the past so it was once at the first cyan point).  Note, eventually the dog will swing in behind the rabbit, which you can see more easily if you zoom in on the top-right of the plot."
   ]
  },
  {
   "cell_type": "markdown",
   "metadata": {},
   "source": [
    "The classical pursuit problem has an interesting history, with contributions to the mathematics going as far back as Newton. There was a lot of development in the 18th century, funded by various navies, that helped inspire developments in DEs. Prominent names associated with the problem are Bouguer and Boole."
   ]
  }
 ],
 "metadata": {
  "kernelspec": {
   "display_name": "Python 3",
   "language": "python",
   "name": "python3"
  },
  "language_info": {
   "codemirror_mode": {
    "name": "ipython",
    "version": 3
   },
   "file_extension": ".py",
   "mimetype": "text/x-python",
   "name": "python",
   "nbconvert_exporter": "python",
   "pygments_lexer": "ipython3",
   "version": "3.6.8"
  }
 },
 "nbformat": 4,
 "nbformat_minor": 2
}
